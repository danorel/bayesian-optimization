{
 "cells": [
  {
   "cell_type": "code",
   "execution_count": null,
   "id": "469ca74e-8b1e-48cf-b5a3-9c22c1ce3d55",
   "metadata": {},
   "outputs": [],
   "source": [
    "import numpy as np\n",
    "import numpy.typing as npt\n",
    "import random\n",
    "import math\n",
    "import matplotlib.pyplot as plt\n",
    "\n",
    "from scipy.stats import norm\n",
    "from sklearn.gaussian_process import GaussianProcessRegressor"
   ]
  },
  {
   "cell_type": "code",
   "execution_count": null,
   "id": "ad973801-896e-40e4-b2e5-86faaabf7512",
   "metadata": {},
   "outputs": [],
   "source": [
    "def sample(x):\n",
    "    return x.reshape(-1, 1)"
   ]
  },
  {
   "cell_type": "code",
   "execution_count": null,
   "id": "a6f2de10-4ff9-4df7-9588-19be3b2ef70b",
   "metadata": {},
   "outputs": [],
   "source": [
    "\"\"\"\n",
    "Parameters:\n",
    "x (npt.NDArray): values are in range [-1.5, 7]\n",
    "noise (float): random bias to add to the objective function\n",
    "\n",
    "Returns:\n",
    "npt.NDArray: y values of objective function calculated from given x\n",
    "\"\"\"\n",
    "def objective(x: npt.NDArray, noise = 1.5):\n",
    "    x_squared = x * x\n",
    "    x_cubed = x_squared * x\n",
    "    bias = np.random.uniform(low=-noise, high=+noise, size=x.size) if noise is not None else 0\n",
    "    return (0.25 * x_squared * np.cos(0.2 * x_squared)) - ((1 / 11) * np.exp(-x_cubed)) + 2 + bias"
   ]
  },
  {
   "cell_type": "code",
   "execution_count": null,
   "id": "2505eb7c-cc0c-4003-b71a-bb0312abe1da",
   "metadata": {},
   "outputs": [],
   "source": [
    "\"\"\"\n",
    "Parameters:\n",
    "model (GaussianProcessRegressor): Gaussian Process\n",
    "x (npt.NDArray): values in range [-1.5, 7]\n",
    "\n",
    "Returns:\n",
    "tuple[npt.NDArray, npt.NDArray]: predictions and standard deviation of predictions\n",
    "\"\"\"\n",
    "def surrogate(model, x):\n",
    "    mu, std = model.predict(sample(x), return_std=True)\n",
    "    return mu, std"
   ]
  },
  {
   "cell_type": "code",
   "execution_count": null,
   "id": "b23b2c3b-3c1a-4008-8210-284cd5b1b7fe",
   "metadata": {},
   "outputs": [],
   "source": [
    "\"\"\"\n",
    "Returns scores for each random variable\n",
    "\n",
    "Parameters:\n",
    "X (npt.NDArray): best random variables at moment Ti\n",
    "\n",
    "Returns:\n",
    "int: scores for random variables\n",
    "\"\"\"\n",
    "def acquisition(model, x, x_hat):\n",
    "    mu, _ = surrogate(model, x)\n",
    "    best_mu = np.max(mu)\n",
    "    mu_hat, std_hat = surrogate(model, x_hat)\n",
    "    scores = norm.cdf((mu_hat - best_mu) / std_hat)\n",
    "    return scores"
   ]
  },
  {
   "cell_type": "code",
   "execution_count": null,
   "id": "4d6d0012-083c-4a42-8627-0a764afc17f4",
   "metadata": {},
   "outputs": [],
   "source": [
    "def plot_input_variables(x, y, x_hat, y_hat):\n",
    "    plt.plot(x, y, label=\"Objective function\", color=\"blue\")\n",
    "    plt.scatter(x_hat, y_hat, label=\"Real input variables\", color=\"red\")\n",
    "    plt.title(\"Objective vs Input\")\n",
    "    plt.legend()\n",
    "    plt.show()"
   ]
  },
  {
   "cell_type": "code",
   "execution_count": null,
   "id": "8ab8643c-d1a3-48fa-9a70-ca7284d8a1f2",
   "metadata": {},
   "outputs": [],
   "source": [
    "def select(model, x):\n",
    "    x_hat = np.asarray(np.random.uniform(low=-1.5, high=7, size=50))\n",
    "    scores = acquisition(model, x, x_hat)\n",
    "    ix = np.argmax(scores)\n",
    "    return x_hat[ix]"
   ]
  },
  {
   "cell_type": "code",
   "execution_count": null,
   "id": "77b82cf6-4ebf-46cf-a0e0-3b79c6289379",
   "metadata": {},
   "outputs": [],
   "source": [
    "def plot_model_variables(x, y, model):\n",
    "    x_hat = np.asarray(np.arange(-1.5, 7, 0.1))\n",
    "    y_hat, _ = surrogate(model, x_hat)\n",
    "    plt.plot(x, y, label=\"Objective function\", color=\"blue\")\n",
    "    plt.plot(x_hat, y_hat, label=\"Model function\", color=\"red\")\n",
    "    plt.title(\"Objective vs Model\")\n",
    "    plt.legend()\n",
    "    plt.show()"
   ]
  },
  {
   "cell_type": "code",
   "execution_count": null,
   "id": "7a3ef158-28a5-4d3f-91f8-4b74170161be",
   "metadata": {},
   "outputs": [],
   "source": [
    "x = np.asarray(np.arange(-1.5, 7, 0.1))\n",
    "x_hat = np.asarray(np.random.uniform(low=-1.5, high=7, size=15))\n",
    "\n",
    "y = objective(x, noise=None)\n",
    "y_hat = objective(x_hat)"
   ]
  },
  {
   "cell_type": "code",
   "execution_count": null,
   "id": "86d5f7cd-2a2c-4d61-8c44-bbc0c537664e",
   "metadata": {},
   "outputs": [],
   "source": [
    "model = GaussianProcessRegressor()\n",
    "model.fit(sample(x_hat), y_hat)"
   ]
  },
  {
   "cell_type": "code",
   "execution_count": null,
   "id": "42c03e2e-65e5-4ac0-a250-e75b5554c8c0",
   "metadata": {},
   "outputs": [],
   "source": [
    "def analyze(x, y, x_hat, y_hat, model):\n",
    "    plot_input_variables(x, y, x_hat, y_hat)\n",
    "    ix = np.argmax(y_hat)\n",
    "    print('Best Result: x=%.3f, y=%.3f' % (x_hat[ix], y_hat[ix]))\n",
    "    plot_model_variables(x, y, model)"
   ]
  },
  {
   "cell_type": "code",
   "execution_count": null,
   "id": "c813e48d-e125-4d12-aa0a-19c102028260",
   "metadata": {},
   "outputs": [],
   "source": [
    "analyze(x, y, x_hat, y_hat, model)"
   ]
  },
  {
   "cell_type": "code",
   "execution_count": null,
   "id": "d167b6bc-e9e0-4e2f-81c1-8cdac6d125ad",
   "metadata": {},
   "outputs": [],
   "source": [
    "for i in range(100):\n",
    "    x_best = select(model, x_hat)\n",
    "    y_best = objective(x_best)\n",
    "    \n",
    "    mu_best, std_best = surrogate(model, np.array([x_best]))\n",
    "    if i % 5 == 0:\n",
    "        print(f\"best sample at iteration {i}: x={x_best}, y={y_best}, mu={mu_best[0]}, std={std_best[0]}\")\n",
    "    \n",
    "    x_hat = np.append(x_hat, x_best)\n",
    "    y_hat = np.append(y_hat, y_best)\n",
    "    \n",
    "    model.fit(sample(x_hat), y_hat)"
   ]
  },
  {
   "cell_type": "code",
   "execution_count": null,
   "id": "485211c6-7843-4fb6-8307-219a8837c16c",
   "metadata": {},
   "outputs": [],
   "source": [
    "analyze(x, y, x_hat, y_hat, model)"
   ]
  }
 ],
 "metadata": {
  "kernelspec": {
   "display_name": "Python 3 (ipykernel)",
   "language": "python",
   "name": "python3"
  },
  "language_info": {
   "codemirror_mode": {
    "name": "ipython",
    "version": 3
   },
   "file_extension": ".py",
   "mimetype": "text/x-python",
   "name": "python",
   "nbconvert_exporter": "python",
   "pygments_lexer": "ipython3",
   "version": "3.10.9"
  }
 },
 "nbformat": 4,
 "nbformat_minor": 5
}
